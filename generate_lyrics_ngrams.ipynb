{
 "cells": [
  {
   "cell_type": "code",
   "execution_count": 1,
   "metadata": {},
   "outputs": [],
   "source": [
    "import nltk\n",
    "import numpy as np\n",
    "import pandas as pd\n",
    "from nltk.util import ngrams\n",
    "from collections import Counter\n",
    "import re\n",
    "from nltk.probability import ConditionalFreqDist\n",
    "import random\n",
    "import nltk"
   ]
  },
  {
   "cell_type": "markdown",
   "metadata": {},
   "source": [
    "Setting the parameters for lyrics generation"
   ]
  },
  {
   "cell_type": "code",
   "execution_count": 2,
   "metadata": {},
   "outputs": [],
   "source": [
    "#set n for ngram sampling (n should be between 2 and 5)\n",
    "n = 4\n",
    "#set num_sample to sample from num_sample most likely words\n",
    "num_sample = 20\n",
    "#set seed: should be n-1 words long\n",
    "seed = 'you are the'\n",
    "#genre of music you want: 'R&B','Pop','Jazz','Hip-Hop','Folk','Metal', 'Indie', 'Electronic','Country' \n",
    "genre = 'Pop'\n",
    "#number of words needed if the final lyrics\n",
    "num_lyrics = 200"
   ]
  },
  {
   "cell_type": "markdown",
   "metadata": {},
   "source": [
    "Creation of training data from the precompiled cleaned lyrics."
   ]
  },
  {
   "cell_type": "code",
   "execution_count": 3,
   "metadata": {},
   "outputs": [],
   "source": [
    "data = open('./data/'+genre+'.txt', 'r').read()\n",
    "train_words = data.split(\" \")"
   ]
  },
  {
   "cell_type": "markdown",
   "metadata": {},
   "source": [
    "We create ngrams based on the choosen value on n set above. "
   ]
  },
  {
   "cell_type": "code",
   "execution_count": 4,
   "metadata": {},
   "outputs": [],
   "source": [
    "if n==2:\n",
    "    grams = [(train_words[i],train_words[i+1]) for i in range(len(train_words)-1)]\n",
    "if n==3:\n",
    "    grams = [(train_words[i],train_words[i+1], train_words[i+2]) for i in range(len(train_words)-2)]\n",
    "if n==4:\n",
    "    grams = [(train_words[i],train_words[i+1],train_words[i+2],train_words[i+3]) for i in range(len(train_words)-3)]\n",
    "if n==5:\n",
    "    grams = [(train_words[i],train_words[i+1],train_words[i+2],train_words[i+3], train_words[i+4]) for i in range(len(train_words)-4)]"
   ]
  },
  {
   "cell_type": "markdown",
   "metadata": {},
   "source": [
    "We want a count of the number of occurances of each word following the determined set for words. Depending of the value of n choosen, we run the appropriate function to get the count of the number of ngrams."
   ]
  },
  {
   "cell_type": "code",
   "execution_count": 5,
   "metadata": {},
   "outputs": [],
   "source": [
    "def countFreqBigrams(s):\n",
    "    ngrams_temp = []\n",
    "    for (w1,w2) in grams:\n",
    "        if w1 == s[0]:\n",
    "            ngrams_temp.append((w1,w2))\n",
    "    return Counter(ngrams_temp)\n",
    "def countFreqTrigrams(s):\n",
    "    ngrams_temp = []\n",
    "    for (w1,w2,w3) in grams:\n",
    "        if w1 == s[0] and w2 == s[1] :\n",
    "            ngrams_temp.append((w1,w2,w3))\n",
    "    return Counter(ngrams_temp)\n",
    "def countFreq4grams(s):\n",
    "    ngrams_temp = []\n",
    "    for (w1,w2,w3,w4) in grams:\n",
    "        if w1 == s[0] and w2 == s[1] and w3 == s[2] :\n",
    "            ngrams_temp.append((w1,w2,w3,w4))\n",
    "    return Counter(ngrams_temp)\n",
    "def countFreq5grams(s):\n",
    "    ngrams_temp = []\n",
    "    for (w1,w2,w3,w4,w5) in grams:\n",
    "        if w1 == s[0] and w2 == s[1] and w3 == s[2] and w4 == s[3]:\n",
    "            ngrams_temp.append((w1,w2,w3,w4,w5))\n",
    "    return Counter(ngrams_temp)\n",
    "        "
   ]
  },
  {
   "cell_type": "markdown",
   "metadata": {},
   "source": [
    "We want to sample among the likely possibilities of next words to choose one randomly for text generation. We select the 'num_sample' most common words and sample them accouding to their probability of occurance."
   ]
  },
  {
   "cell_type": "code",
   "execution_count": 6,
   "metadata": {},
   "outputs": [],
   "source": [
    "def getprobsBigrams(c,w0):\n",
    "    list_count = c.most_common(num_sample)\n",
    "    list_vals = []\n",
    "    list_probs = []\n",
    "    sum_cnt = 0\n",
    "    for ((w0[0],w1),cnt) in list_count:\n",
    "        list_vals.append(w1)\n",
    "        list_probs.append(cnt)\n",
    "        sum_cnt += cnt\n",
    "    for i in range(len(list_probs)):\n",
    "        list_probs[i]/=sum_cnt\n",
    "    return list_vals,list_probs\n",
    "\n",
    "def getprobsTrigrams(c,w0):\n",
    "    list_count = c.most_common(num_sample)\n",
    "    list_vals = []\n",
    "    list_probs = []\n",
    "    sum_cnt = 0\n",
    "    for ((w0[0],w0[1],w1),cnt) in list_count:\n",
    "        list_vals.append(w1)\n",
    "        list_probs.append(cnt)\n",
    "        sum_cnt += cnt\n",
    "    for i in range(len(list_probs)):\n",
    "        list_probs[i]/=sum_cnt\n",
    "    return list_vals,list_probs\n",
    "\n",
    "def getprobs4grams(c,w0):\n",
    "    list_count = c.most_common(num_sample)\n",
    "    list_vals = []\n",
    "    list_probs = []\n",
    "    sum_cnt = 0\n",
    "    for ((w0[0],w0[1],w0[2],w1),cnt) in list_count:\n",
    "        list_vals.append(w1)\n",
    "        list_probs.append(cnt)\n",
    "        sum_cnt += cnt\n",
    "    for i in range(len(list_probs)):\n",
    "        list_probs[i]/=sum_cnt\n",
    "    return list_vals,list_probs\n",
    "\n",
    "def getprobs5grams(c,w0):\n",
    "    list_count = c.most_common(num_sample)\n",
    "    list_vals = []\n",
    "    list_probs = []\n",
    "    sum_cnt = 0\n",
    "    for ((w0[0],w0[1],w0[2],w0[3],w1),cnt) in list_count:\n",
    "        list_vals.append(w1)\n",
    "        list_probs.append(cnt)\n",
    "        sum_cnt += cnt\n",
    "    for i in range(len(list_probs)):\n",
    "        list_probs[i]/=sum_cnt\n",
    "    return list_vals,list_probs"
   ]
  },
  {
   "cell_type": "markdown",
   "metadata": {},
   "source": [
    "We generate the number of required words from the model."
   ]
  },
  {
   "cell_type": "code",
   "execution_count": 7,
   "metadata": {
    "scrolled": true
   },
   "outputs": [],
   "source": [
    "sentence = [seed]\n",
    "w0 = seed.split()\n",
    "for i in range(num_lyrics):\n",
    "    if n==2:\n",
    "        c = countFreqBigrams(w0)\n",
    "        list_vals,list_probs = getprobsBigrams(c,w0)\n",
    "    if n==3:\n",
    "        c = countFreqTrigrams(w0)\n",
    "        list_vals,list_probs = getprobsTrigrams(c,w0)\n",
    "    if n==4:\n",
    "        c = countFreq4grams(w0)\n",
    "        list_vals,list_probs = getprobs4grams(c,w0)\n",
    "    if n==5:\n",
    "        c = countFreq5grams(w0)\n",
    "        list_vals,list_probs = getprobs5grams(c,w0)\n",
    "    w1 = np.random.choice(list_vals,p=list_probs)\n",
    "    sentence.append(w1)\n",
    "    w0.pop(0)\n",
    "    w0.append(w1)\n"
   ]
  },
  {
   "cell_type": "markdown",
   "metadata": {},
   "source": [
    "Formatting the output.."
   ]
  },
  {
   "cell_type": "code",
   "execution_count": 8,
   "metadata": {},
   "outputs": [
    {
     "name": "stdout",
     "output_type": "stream",
     "text": [
      " You are the air that we call friends.\n",
      " In his touch.\n",
      " I gotta keep these cheeks dry today.\n",
      " Gotta be a better way to part.\n",
      " Nikki its you you you.\n",
      " I dont want to live without your love.\n",
      " I feel so sad.\n",
      " Its too much pressure on me.\n",
      " I know youre mine pride and joy.\n",
      " He sang like a beautiful girl.\n",
      " Thats my prerogative.\n",
      " Its my life.\n",
      " And im so glad were through.\n",
      " Now i have you here today for a bit more ductile like me.\n",
      " Cause i dont want to fall on the floor and shake that ass.\n",
      " They gon hear you outside from the outside.\n",
      " But im hurtin while im with you.\n",
      " With you.\n",
      " And now youre gonna lie.\n",
      " Sometimes when im mad you dont wanna play with mine.\n",
      " And when you go.\n",
      " I need your loving arms again.\n",
      " And its the mystery of love.\n",
      " When the going gets rough.\n",
      " Love isnt on your daily agenda.\n",
      " No matter what it takes then let it go let it go let it all go were gonna\n"
     ]
    }
   ],
   "source": [
    "para = ''\n",
    "for i in sentence:\n",
    "    if i=='<eos>'and para[-1]!=\"\\n\":\n",
    "        para+=\".\\n\"\n",
    "    elif i=='<eos>' or i == 'chorus':\n",
    "        pass\n",
    "    else:\n",
    "        if para == '' or para[-1]==\"\\n\":\n",
    "            i = i.capitalize()\n",
    "        if i=='i':\n",
    "            i.capitalize()\n",
    "        para = para+ \" \" +i \n",
    "print(para)"
   ]
  },
  {
   "cell_type": "markdown",
   "metadata": {},
   "source": [
    "This section has been used to preprocess the lyrics dataest available on\n",
    "'https://www.kaggle.com/gyani95/380000-lyrics-from-metrolyrics'.\n",
    "The lyrics have been divided into categories and cleaned and saved in text files for training."
   ]
  },
  {
   "cell_type": "code",
   "execution_count": 9,
   "metadata": {},
   "outputs": [],
   "source": [
    "# songs = pd.read_csv('lyrics.csv')\n",
    "# for g in list(set(songs[\"genre\"])):\n",
    "#     print(g)\n",
    "#     song = songs[songs['genre']==g]\n",
    "    \n",
    "#     file = open('./data/'+g+'.txt', 'w')\n",
    "#     for data in song['lyrics']:\n",
    "#         try:\n",
    "#             #data = open('english_text.txt', 'r').read()\n",
    "#             data= data.lower()\n",
    "#             lyrics = ''\n",
    "#             kk = data.replace(\"\\n\",\" <eos> \")\n",
    "#             train_words = kk.split(\" \")\n",
    "#             for i in range (len(train_words)):\n",
    "#                 train_words[i] = train_words[i].translate ({ord(c): '' for c in \"!@#$%^&*()[]{};:,./1234567890?\\\\|`~-=_+-'\"})\n",
    "#             while '' in train_words:\n",
    "#                 train_words.remove('')\n",
    "#             for i in range (len(train_words)):\n",
    "#                 lyrics = lyrics + train_words[i] + ' '\n",
    "#             file.write(lyrics)\n",
    "#         except AttributeError:\n",
    "#             pass\n",
    "\n",
    "#     file.close()\n",
    "    "
   ]
  }
 ],
 "metadata": {
  "kernelspec": {
   "display_name": "Python 3",
   "language": "python",
   "name": "python3"
  },
  "language_info": {
   "codemirror_mode": {
    "name": "ipython",
    "version": 3
   },
   "file_extension": ".py",
   "mimetype": "text/x-python",
   "name": "python",
   "nbconvert_exporter": "python",
   "pygments_lexer": "ipython3",
   "version": "3.6.5"
  }
 },
 "nbformat": 4,
 "nbformat_minor": 2
}
